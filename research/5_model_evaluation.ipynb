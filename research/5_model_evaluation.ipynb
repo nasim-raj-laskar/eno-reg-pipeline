{
 "cells": [
  {
   "cell_type": "code",
   "execution_count": 4,
   "id": "a27195b4",
   "metadata": {},
   "outputs": [],
   "source": [
    "from dataclasses import dataclass\n",
    "from pathlib import Path\n",
    "\n",
    "@dataclass\n",
    "class ModelEvaluationConfig:\n",
    "    root_dir: Path\n",
    "    test_data_path: Path\n",
    "    model_path: Path\n",
    "    all_params: dict\n",
    "    metric_file_name: Path\n",
    "    target_column: str\n",
    "    mlflow_uri: str"
   ]
  },
  {
   "cell_type": "code",
   "execution_count": 5,
   "id": "358e9750",
   "metadata": {},
   "outputs": [],
   "source": [
    "from src.datascience.constants import *\n",
    "from src.datascience.utils.common import read_yaml, create_directories,save_json"
   ]
  },
  {
   "cell_type": "code",
   "execution_count": 33,
   "id": "0b3add4d",
   "metadata": {},
   "outputs": [],
   "source": [
    "class ConfigurationManager:\n",
    "    def __init__(self, \n",
    "                 config_filepath = CONFIG_FILE_PATH,\n",
    "                 params_filepath = PARAMS_FILE_PATH,\n",
    "                 schema_filepath = SCHEMA_FILE_PATH):\n",
    "        self.config = read_yaml(config_filepath)\n",
    "        self.params = read_yaml(params_filepath)\n",
    "        self.schema = read_yaml(schema_filepath)\n",
    "\n",
    "        create_directories([self.config.artifacts_root])\n",
    "\n",
    "    def get_model_evaluation_config(self) -> ModelEvaluationConfig:\n",
    "        config = self.config.model_evaluation\n",
    "        params=self.params.ElasticNet\n",
    "        schema=self.schema.TARGET_COLUMN\n",
    "\n",
    "        create_directories([config.root_dir])\n",
    "\n",
    "        model_evaluation_config = ModelEvaluationConfig(\n",
    "            root_dir = config.root_dir,\n",
    "            test_data_path = config.test_data_path,\n",
    "            model_path = config.model_path,\n",
    "            all_params = self.params,\n",
    "            metric_file_name = config.metrics_file_name,\n",
    "            target_column = schema.name,\n",
    "            mlflow_uri = \"https://dagshub.com/nasim-raj-laskar/datascienceproject.mlflow\"\n",
    "        )\n",
    "\n",
    "        return model_evaluation_config"
   ]
  },
  {
   "cell_type": "code",
   "execution_count": 34,
   "id": "8c1003f3",
   "metadata": {},
   "outputs": [],
   "source": [
    "import os\n",
    "import mlflow\n",
    "import pandas as pd\n",
    "from sklearn.metrics import mean_squared_error, mean_absolute_error, r2_score\n",
    "import mlflow.sklearn\n",
    "import numpy as np\n",
    "import joblib\n",
    "from urllib.parse import urlparse"
   ]
  },
  {
   "cell_type": "code",
   "execution_count": 35,
   "id": "f21e06fc",
   "metadata": {},
   "outputs": [],
   "source": [
    "class ModelEvaluation:\n",
    "    def __init__(self, config: ModelEvaluationConfig):\n",
    "        self.config = config\n",
    "    \n",
    "    def evaluate_model(self,actual,pred):\n",
    "        rmse = np.sqrt(mean_squared_error(actual, pred))\n",
    "        mae = mean_absolute_error(actual, pred)\n",
    "        r2 = r2_score(actual, pred)\n",
    "        return rmse, mae, r2\n",
    "    \n",
    "    def log_into_mlflow(self):\n",
    "\n",
    "        test_data = pd.read_csv(self.config.test_data_path)\n",
    "        model=joblib.load(self.config.model_path)\n",
    "\n",
    "        test_x=test_data.drop(columns=[self.config.target_column],axis=1)\n",
    "        test_y=test_data[[self.config.target_column]]\n",
    "\n",
    "        mlflow.set_registry_uri(self.config.mlflow_uri)\n",
    "        tracking_url_type_store = urlparse(mlflow.get_tracking_uri()).scheme\n",
    "\n",
    "        with mlflow.start_run():\n",
    "\n",
    "            predicted_qualities = model.predict(test_x)\n",
    "\n",
    "            (rmse, mae, r2) = self.evaluate_model(test_y, predicted_qualities)\n",
    "\n",
    "            scores={\n",
    "                \"rmse\": rmse,\n",
    "                \"mae\": mae,\n",
    "                \"r2\": r2\n",
    "            }\n",
    "            save_json(path=Path(self.config.metric_file_name), data=scores)\n",
    "\n",
    "            mlflow.log_params(self.config.all_params)\n",
    "\n",
    "            mlflow.log_metric(\"rmse\", rmse)\n",
    "            mlflow.log_metric(\"mae\", mae)\n",
    "            mlflow.log_metric(\"r2\", r2)\n",
    "\n",
    "            if tracking_url_type_store != \"file\":\n",
    "                mlflow.sklearn.log_model(model, \"model\", registered_model_name=\"ElasticNetModel\")\n",
    "            else:\n",
    "                mlflow.sklearn.log_model(model, \"model\")"
   ]
  },
  {
   "cell_type": "code",
   "execution_count": 36,
   "id": "0cc74e41",
   "metadata": {},
   "outputs": [
    {
     "name": "stdout",
     "output_type": "stream",
     "text": [
      "[2025-09-12 15:04:21,955: INFO: common: yaml file: config\\config.yaml loaded successfully]\n",
      "[2025-09-12 15:04:21,959: INFO: common: yaml file: params.yaml loaded successfully]\n",
      "[2025-09-12 15:04:21,983: INFO: common: yaml file: schema.yaml loaded successfully]\n",
      "[2025-09-12 15:04:21,985: INFO: common: created directory at: artifacts]\n",
      "[2025-09-12 15:04:21,987: INFO: common: created directory at: artifacts/model_evaluation]\n",
      "[2025-09-12 15:04:24,651: INFO: common: json file saved at: artifacts\\model_evaluation\\metrics.json]\n"
     ]
    },
    {
     "name": "stderr",
     "output_type": "stream",
     "text": [
      "2025/09/12 15:04:37 WARNING mlflow.models.model: Model logged without a signature and input example. Please set `input_example` parameter when logging the model to auto infer the model signature.\n",
      "Successfully registered model 'ElasticNetModel'.\n",
      "2025/09/12 15:04:43 INFO mlflow.store.model_registry.abstract_store: Waiting up to 300 seconds for model version to finish creation. Model name: ElasticNetModel, version 1\n",
      "Created version '1' of model 'ElasticNetModel'.\n",
      "2025/09/12 15:04:43 INFO mlflow.tracking._tracking_service.client: 🏃 View run silent-quail-407 at: https://dagshub.com/nasim-raj-laskar/datascienceproject.mlflow/#/experiments/0/runs/0caffc1b972a434caa8769cde6aa1115.\n",
      "2025/09/12 15:04:43 INFO mlflow.tracking._tracking_service.client: 🧪 View experiment at: https://dagshub.com/nasim-raj-laskar/datascienceproject.mlflow/#/experiments/0.\n"
     ]
    }
   ],
   "source": [
    "try:\n",
    "    config=ConfigurationManager()\n",
    "    model_evaluation_config=config.get_model_evaluation_config()\n",
    "    model_evaluation=ModelEvaluation(config=model_evaluation_config)\n",
    "    model_evaluation.log_into_mlflow()\n",
    "except Exception as e:\n",
    "    raise e"
   ]
  },
  {
   "cell_type": "code",
   "execution_count": null,
   "id": "2135bbd0",
   "metadata": {},
   "outputs": [],
   "source": []
  }
 ],
 "metadata": {
  "kernelspec": {
   "display_name": ".venv",
   "language": "python",
   "name": "python3"
  },
  "language_info": {
   "codemirror_mode": {
    "name": "ipython",
    "version": 3
   },
   "file_extension": ".py",
   "mimetype": "text/x-python",
   "name": "python",
   "nbconvert_exporter": "python",
   "pygments_lexer": "ipython3",
   "version": "3.12.5"
  }
 },
 "nbformat": 4,
 "nbformat_minor": 5
}
